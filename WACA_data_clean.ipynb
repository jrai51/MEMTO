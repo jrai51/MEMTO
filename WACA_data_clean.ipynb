{
 "cells": [
  {
   "cell_type": "code",
   "execution_count": 2,
   "metadata": {},
   "outputs": [
    {
     "name": "stdout",
     "output_type": "stream",
     "text": [
      "Collecting pandas\n",
      "  Downloading pandas-2.2.3-cp310-cp310-win_amd64.whl.metadata (19 kB)\n",
      "Requirement already satisfied: numpy>=1.22.4 in c:\\users\\jagri\\documents\\github\\memto\\memto\\lib\\site-packages (from pandas) (2.1.2)\n",
      "Requirement already satisfied: python-dateutil>=2.8.2 in c:\\users\\jagri\\documents\\github\\memto\\memto\\lib\\site-packages (from pandas) (2.9.0.post0)\n",
      "Collecting pytz>=2020.1 (from pandas)\n",
      "  Downloading pytz-2024.2-py2.py3-none-any.whl.metadata (22 kB)\n",
      "Collecting tzdata>=2022.7 (from pandas)\n",
      "  Downloading tzdata-2024.2-py2.py3-none-any.whl.metadata (1.4 kB)\n",
      "Requirement already satisfied: six>=1.5 in c:\\users\\jagri\\documents\\github\\memto\\memto\\lib\\site-packages (from python-dateutil>=2.8.2->pandas) (1.16.0)\n",
      "Downloading pandas-2.2.3-cp310-cp310-win_amd64.whl (11.6 MB)\n",
      "   ---------------------------------------- 0.0/11.6 MB ? eta -:--:--\n",
      "   --------------------------- ------------ 7.9/11.6 MB 53.9 MB/s eta 0:00:01\n",
      "   ---------------------------------------- 11.6/11.6 MB 48.4 MB/s eta 0:00:00\n",
      "Downloading pytz-2024.2-py2.py3-none-any.whl (508 kB)\n",
      "Downloading tzdata-2024.2-py2.py3-none-any.whl (346 kB)\n",
      "Installing collected packages: pytz, tzdata, pandas\n",
      "Successfully installed pandas-2.2.3 pytz-2024.2 tzdata-2024.2\n"
     ]
    }
   ],
   "source": [
    "! pip install pandas\n",
    "import pandas as pd\n",
    "import numpy as np"
   ]
  },
  {
   "cell_type": "code",
   "execution_count": null,
   "metadata": {},
   "outputs": [],
   "source": [
    "path_to_train = \"data/WACA/WACA/user1_2.csv\"\n",
    "\n",
    "\n",
    "column_names = [\"sensor\", \"timestamp\", 'x', 'y', 'z']\n",
    "columnn_types = {\n",
    "    \"sensor\": \"int64\",\n",
    "    \"timestamp\": \"float64\",\n",
    "    \"x\": \"float64\",\n",
    "    \"y\": \"float64\",\n",
    "    \"z\": \"float64\"\n",
    "}\n",
    "df = pd.read_csv(path_to_train, on_bad_lines=\"skip\", names=column_names, dtype=columnn_types)\n",
    "\n",
    "# Assuming 'timestamp_(min)' is the column you want to filter on\n",
    "df = df[df['sensor'].astype(str).str.startswith(('4', '10'))]\n",
    "\n",
    "df.head(10)\n",
    "\n",
    "# Convert the DataFrame to a NumPy array\n",
    "array = df.to_numpy()\n",
    "\n",
    "# Save the array as a .npy file\n",
    "np.save(\"data/WACA/WACA/WACA_train.npy\", array)\n",
    "\n"
   ]
  },
  {
   "cell_type": "code",
   "execution_count": 20,
   "metadata": {},
   "outputs": [
    {
     "name": "stdout",
     "output_type": "stream",
     "text": [
      "        sensor     timestamp         x         y         z\n",
      "0           10  1.951430e+13 -4.105447  0.377995  0.015730\n",
      "1            4  1.951431e+13  0.019175  0.047404  0.005593\n",
      "2            4  1.951431e+13  0.006658  0.034887  0.007723\n",
      "3            4  1.951435e+13 -0.001598  0.036752  0.001065\n",
      "4            4  1.951438e+13 -0.001864  0.033822  0.011984\n",
      "...        ...           ...       ...       ...       ...\n",
      "117310       4  1.025270e+12  0.037284  0.104396  0.046872\n",
      "117311      10  1.025258e+12  0.015923  0.015748  0.316365\n",
      "117312       4  1.025279e+12  0.037284  0.104396  0.046872\n",
      "117313       4  1.025275e+12  0.037284  0.104396  0.046872\n",
      "117314       4  1.025284e+12  0.065780  0.100667  0.033290\n",
      "\n",
      "[117315 rows x 5 columns]\n"
     ]
    }
   ],
   "source": [
    "path_to_test2 = \"data/WACA/WACA/user1_1.csv\"\n",
    "path_to_test1 = \"data/WACA/WACA/user2_1.csv\"\n",
    "\n",
    "\n",
    "test_df1 = pd.read_csv(path_to_test1, on_bad_lines=\"skip\", names=column_names, dtype=columnn_types)\n",
    "test_df2 = pd.read_csv(path_to_test2, on_bad_lines=\"skip\", names=column_names, dtype=columnn_types)\n",
    "\n",
    "test_df1 = test_df1[test_df1['sensor'].astype(str).str.startswith(('4', '10'))]\n",
    "test_df2 = test_df2[test_df2['sensor'].astype(str).str.startswith(('4', '10'))]\n",
    "\n",
    "merged_df = pd.concat([test_df1, test_df2], ignore_index=True)\n",
    "\n",
    "print(merged_df)\n",
    "merged_df.to_csv(\"data/WACA/WACA/test.csv\", index=False)\n",
    "\n",
    "\n",
    "\n",
    "# Create labels for each row in the merged DataFrame\n",
    "labels = [0] * len(test_df1) + [1] * len(test_df2)\n",
    "\n",
    "# Create a new DataFrame for labels\n",
    "labels_df = pd.DataFrame({\n",
    "    \"timestamp\": merged_df[\"timestamp\"],\n",
    "    \"label\": labels\n",
    "})\n",
    "\n",
    "# Save the labels DataFrame to a CSV file\n",
    "labels_df.to_csv(\"data/WACA/WACA/test_labels.csv\", index=False)\n",
    "\n"
   ]
  },
  {
   "cell_type": "code",
   "execution_count": null,
   "metadata": {},
   "outputs": [],
   "source": [
    "test_array = merged_df.to_numpy()\n",
    "labels_array = labels_df.to_numpy()\n",
    "\n",
    "# Save the array as a .npy file\n",
    "np.save(\"data/WACA/WACA/WACA_test.npy\", test_array)\n",
    "np.save(\"data/WACA/WACA/WACA_test_labels.npy\", labels_array)"
   ]
  }
 ],
 "metadata": {
  "kernelspec": {
   "display_name": "memto",
   "language": "python",
   "name": "python3"
  },
  "language_info": {
   "codemirror_mode": {
    "name": "ipython",
    "version": 3
   },
   "file_extension": ".py",
   "mimetype": "text/x-python",
   "name": "python",
   "nbconvert_exporter": "python",
   "pygments_lexer": "ipython3",
   "version": "3.10.11"
  }
 },
 "nbformat": 4,
 "nbformat_minor": 2
}
